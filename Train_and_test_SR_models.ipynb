{
  "nbformat": 4,
  "nbformat_minor": 0,
  "metadata": {
    "colab": {
      "provenance": [],
      "toc_visible": true
    },
    "kernelspec": {
      "name": "python3",
      "display_name": "Python 3"
    },
    "language_info": {
      "name": "python"
    }
  },
  "cells": [
    {
      "cell_type": "markdown",
      "source": [
        "###8.Train and Test the model"
      ],
      "metadata": {
        "id": "FgcFhpEMqyno"
      }
    },
    {
      "cell_type": "code",
      "source": [
        "# Fit and Test the SRCNN model\n",
        "def train_test_srcnn(train, val, test1, test2, test3, epochs, batch_size,scale):\n",
        "    model,history = srcnn_main(train, val, epochs=epochs, batch_size=batch_size)\n",
        "    summarize_diagnostics(history)\n",
        "\n",
        "    psnr_01, ssim_01 = evaluate_and_visualize_model(model, test1)\n",
        "    psnr_02, ssim_02 = evaluate_and_visualize_model(model, test2)\n",
        "    psnr_03, ssim_03 = evaluate_and_visualize_model(model, test3)\n",
        "\n",
        "    print(model.summary())\n",
        "    print(f\"PSNR Set5 {scale}x: \", psnr_01.numpy(), f\"SSIM Set5 {scale}x: \", ssim_01.numpy())\n",
        "    print(f\"PSNR Set14 {scale}x : \", psnr_02.numpy(), f\"SSIM Set14 {scale}x: \", ssim_02.numpy())\n",
        "    print(f\"PSNR RELLISUR {scale}x : \", psnr_03.numpy(), f\"RELLISUR {scale}x: \", ssim_03.numpy())\n"
      ],
      "metadata": {
        "id": "GgngQPOVgSRD"
      },
      "execution_count": null,
      "outputs": []
    },
    {
      "cell_type": "code",
      "source": [
        "def train_test_srcnn_2(train, val, epochs, batch_size, scale, test1=None, test2=None, test3=None):\n",
        "    model, history = srcnn_main(train, val, epochs=epochs, batch_size=batch_size)\n",
        "    summarize_diagnostics(history)\n",
        "\n",
        "    if test1 is not None:\n",
        "        psnr_01, ssim_01 = evaluate_and_visualize_model(model, test1)\n",
        "        print(f\"PSNR Set5 {scale}x: \", psnr_01.numpy(), f\"SSIM Set5 {scale}x: \", ssim_01.numpy())\n",
        "    if test2 is not None:\n",
        "        psnr_02, ssim_02 = evaluate_and_visualize_model(model, test2)\n",
        "        print(f\"PSNR Set14 {scale}x : \", psnr_02.numpy(), f\"SSIM Set14 {scale}x: \", ssim_02.numpy())\n",
        "    if test3 is not None:\n",
        "        psnr_03, ssim_03 = evaluate_and_visualize_model(model, test3)\n",
        "        print(f\"PSNR RELLISUR {scale}x : \", psnr_03.numpy(), f\"SSIM RELLISUR {scale}x: \", ssim_03.numpy())\n",
        "\n",
        "    print(model.summary())\n"
      ],
      "metadata": {
        "id": "2lWH6_op1i6G"
      },
      "execution_count": null,
      "outputs": []
    },
    {
      "cell_type": "code",
      "source": [
        "# Fit and Test the EDSR model\n",
        "def train_test_edsr(train, val, test1, test2, test3, epochs, batch_size,scale):\n",
        "    model,history = edsr_main(train_data = train, val_data = val, scale = scale, epochs = epochs, batch_size = batch_size)\n",
        "    summarize_diagnostics(history)\n",
        "\n",
        "    psnr_01, ssim_01 = evaluate_and_visualize_model(model, test1)\n",
        "    psnr_02, ssim_02 = evaluate_and_visualize_model(model, test2)\n",
        "    psnr_03, ssim_03 = evaluate_and_visualize_model(model, test3)\n",
        "\n",
        "    print(model.summary())\n",
        "    print(f\"PSNR Set5 {scale}x: \", psnr_01.numpy(), f\"SSIM Set5 {scale}x: \", ssim_01.numpy())\n",
        "    print(f\"PSNR Set14 {scale}x : \", psnr_02.numpy(), f\"SSIM Set14 {scale}x: \", ssim_02.numpy())\n",
        "    print(f\"PSNR RELLISUR {scale}x : \", psnr_03.numpy(), f\"RELLISUR {scale}x: \", ssim_03.numpy())"
      ],
      "metadata": {
        "id": "LYjjvxJRtKHU"
      },
      "execution_count": null,
      "outputs": []
    },
    {
      "cell_type": "code",
      "source": [
        "def train_test_edsr_2(train, val, epochs, batch_size,scale,test1 = None, test2= None, test3= None):\n",
        "    model,history = edsr_main(train_data = train, val_data = val, scale = scale, epochs = epochs, batch_size = batch_size)\n",
        "    summarize_diagnostics(history)\n",
        "\n",
        "    if test1 is not None:\n",
        "        psnr_01, ssim_01 = evaluate_and_visualize_model(model, test1)\n",
        "        print(f\"PSNR Set5 {scale}x: \", psnr_01.numpy(), f\"SSIM Set5 {scale}x: \", ssim_01.numpy())\n",
        "    if test2 is not None:\n",
        "        psnr_02, ssim_02 = evaluate_and_visualize_model(model, test2)\n",
        "        print(f\"PSNR Set14 {scale}x : \", psnr_02.numpy(), f\"SSIM Set14 {scale}x: \", ssim_02.numpy())\n",
        "    if test3 is not None:\n",
        "        psnr_03, ssim_03 = evaluate_and_visualize_model(model, test3)\n",
        "        print(f\"PSNR RELLISUR {scale}x : \", psnr_03.numpy(), f\"SSIM RELLISUR {scale}x: \", ssim_03.numpy())\n",
        "\n",
        "    print(model.summary())"
      ],
      "metadata": {
        "id": "H4qI_UMyMkJq"
      },
      "execution_count": null,
      "outputs": []
    }
  ]
}